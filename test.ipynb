{
 "cells": [
  {
   "cell_type": "code",
   "execution_count": 12,
   "metadata": {},
   "outputs": [
    {
     "name": "stdout",
     "output_type": "stream",
     "text": [
      "59\n",
      "59\n",
      "64\n"
     ]
    }
   ],
   "source": [
    "import zlib\n",
    "\n",
    "original_id = '=cph68phjchi64bb46phmab9k74omcb9pcor30b9pchh6cd3665j3aohg70'\n",
    "# original_id = 'Yes, it is okay and quite common for the compressed size to be larger than the original when dealing with short or already optimized data strings.'\n",
    "\n",
    "print(len(original_id.encode('utf-8')))\n",
    "print(len(original_id))\n",
    "\n",
    "compressed_id = zlib.compress(original_id.encode('utf-8'))\n",
    "\n",
    "print(len(compressed_id))\n",
    "\n",
    "decompressed_id = zlib.decompress(compressed_id).decode('utf-8')\n",
    "\n"
   ]
  },
  {
   "cell_type": "code",
   "execution_count": null,
   "metadata": {},
   "outputs": [],
   "source": []
  }
 ],
 "metadata": {
  "kernelspec": {
   "display_name": "venv",
   "language": "python",
   "name": "python3"
  },
  "language_info": {
   "codemirror_mode": {
    "name": "ipython",
    "version": 3
   },
   "file_extension": ".py",
   "mimetype": "text/x-python",
   "name": "python",
   "nbconvert_exporter": "python",
   "pygments_lexer": "ipython3",
   "version": "3.12.2"
  }
 },
 "nbformat": 4,
 "nbformat_minor": 2
}
